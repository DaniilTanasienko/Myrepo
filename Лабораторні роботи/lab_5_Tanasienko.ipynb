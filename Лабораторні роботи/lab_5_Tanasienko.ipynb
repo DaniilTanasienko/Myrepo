{
 "cells": [
  {
   "cell_type": "markdown",
   "id": "bd9d0fd8-a9e8-4b02-aa97-428b25307be0",
   "metadata": {},
   "source": [
    "---\n",
    "# <center> Лабораторна робота №5 </center>\n",
    "## __Тема. Алгоритми пошуку__\n",
    "## __Мета:__ Засвоїти варіанти реалізації алгоритмів пошуку засобами Python і \n",
    "методи оцінювання їх складності\n",
    "Викoнав Данііл Танасієнко 10.12.24\n",
    "---"
   ]
  },
  {
   "cell_type": "markdown",
   "id": "116b4093-914d-4145-8a3c-1e0e2f45d86d",
   "metadata": {},
   "source": [
    "# <center> Хід роботи </center>"
   ]
  },
  {
   "cell_type": "markdown",
   "id": "e8c07055-0c02-4a9c-8105-764d333b1cce",
   "metadata": {},
   "source": [
    "## 1) Оцінити асимптотичну складність алгоритму лінійного пошуку в О-нотації.\n"
   ]
  },
  {
   "cell_type": "code",
   "execution_count": 11,
   "id": "1592cf23-007c-4d15-b7da-3323ca98fcc3",
   "metadata": {},
   "outputs": [
    {
     "name": "stdout",
     "output_type": "stream",
     "text": [
      "Елемент 30 знайдено на індексі 2.\n"
     ]
    }
   ],
   "source": [
    "def linear_search(arr, target):\n",
    "    \"\"\"\n",
    "    Лінійний пошук у списку.\n",
    "    \n",
    "    Параметри:\n",
    "    - arr: список елементів\n",
    "    - target: шуканий елемент\n",
    "    \n",
    "    Повертає:\n",
    "    - Індекс елемента, якщо знайдено, або -1, якщо не знайдено.\n",
    "    \"\"\"\n",
    "    for i in range(len(arr)):\n",
    "        if arr[i] == target:\n",
    "            return i  # Знайдено, повертаємо індекс\n",
    "    return -1  # Не знайдено\n",
    "\n",
    "# Приклад використання\n",
    "arr = [10, 20, 30, 40, 50]\n",
    "target = 30\n",
    "\n",
    "result = linear_search(arr, target)\n",
    "if result != -1:\n",
    "    print(f\"Елемент {target} знайдено на індексі {result}.\")\n",
    "else:\n",
    "    print(f\"Елемент {target} не знайдено.\")\n"
   ]
  },
  {
   "cell_type": "markdown",
   "id": "5423428f-2ae1-434c-be10-5af0bdb3cab4",
   "metadata": {},
   "source": [
    "### Оцінка асимптотичної складності алгоритму лінійного пошуку\n",
    "\n",
    "Алгоритм лінійного пошуку має асимптотичну складність:\n",
    "\n",
    " - **Найгірший випадок**: $O(n)$, коли елемент знаходиться в кінці списку або його немає. У цьому випадку потрібно перевірити всі елементи списку.\n",
    " - **Найкращий випадок**: $O(1)$, коли елемент знаходиться на першій позиції.\n",
    " - **Середній випадок**: $O(n)$, оскільки в середньому необхідно перевірити половину елементів."
   ]
  },
  {
   "cell_type": "markdown",
   "id": "ada092d4-74af-434e-910b-b13696232a73",
   "metadata": {},
   "source": [
    "## 2) Oцінити асимптотичну складність алгоритму бінарного пошуку в О-нотації."
   ]
  },
  {
   "cell_type": "code",
   "execution_count": 14,
   "id": "db88726c-c2ef-4a8c-852a-118013d76373",
   "metadata": {},
   "outputs": [
    {
     "name": "stdout",
     "output_type": "stream",
     "text": [
      "Елемент 1488 знайдено на індексі 5.\n"
     ]
    }
   ],
   "source": [
    "# Реалізація алгоритму бінарного пошуку\n",
    "def binary_search(arr, target):\n",
    "    \"\"\"\n",
    "    Бінарний пошук у відсортованому списку.\n",
    "    \n",
    "    Параметри:\n",
    "    - arr: відсортований список елементів\n",
    "    - target: шуканий елемент\n",
    "    \n",
    "    Повертає:\n",
    "    - Індекс елемента, якщо знайдено, або -1, якщо не знайдено.\n",
    "    \"\"\"\n",
    "    low = 0\n",
    "    high = len(arr) - 1\n",
    "    \n",
    "    while low <= high:\n",
    "        mid = (low + high) // 2\n",
    "        if arr[mid] == target:\n",
    "            return mid  # Знайдено, повертаємо індекс\n",
    "        elif arr[mid] < target:\n",
    "            low = mid + 1  # Шукаємо у правій частині\n",
    "        else:\n",
    "            high = mid - 1  # Шукаємо у лівій частині\n",
    "    \n",
    "    return -1  # Не знайдено\n",
    "\n",
    "# Приклад використання\n",
    "arr = [10, 20, 30, 40, 50, 1488]\n",
    "target = 1488\n",
    "\n",
    "result = binary_search(arr, target)\n",
    "if result != -1:\n",
    "    print(f\"Елемент {target} знайдено на індексі {result}.\")\n",
    "else:\n",
    "    print(f\"Елемент {target} не знайдено.\")"
   ]
  },
  {
   "cell_type": "markdown",
   "id": "ec1d6085-7f13-4816-a33b-0d6ec9bc344e",
   "metadata": {},
   "source": [
    "### Оцінка асимптотичної складності алгоритму бінарного пошуку\n",
    "Алгоритм бінарного пошуку має асимптотичну складність:\n",
    "\n",
    " - **Найгірший випадок**: $O(\\log n)$, оскільки на кожному кроці алгоритм зменшує розмір пошукової області в два рази.\n",
    " - **Найкращий випадок**: $O(1)$, коли шуканий елемент знаходиться в середині списку.\n",
    " - **Середній випадок**: $O(\\log n)$, так як у середньому кількість операцій для знаходження елемента також буде пропорційна логарифму від розміру масиву."
   ]
  },
  {
   "cell_type": "markdown",
   "id": "bdac0ae2-a031-46ab-a5bb-8b0783993dbf",
   "metadata": {},
   "source": [
    "## 3) Написати функцію, яка б могла повертати датафрейм з таким складом полів: («n», «time»), де n – розмір масиву для функції linear_searh();"
   ]
  },
  {
   "cell_type": "code",
   "execution_count": 30,
   "id": "c9e4cbb3-9c0a-4558-a28a-8cf28c0aab55",
   "metadata": {},
   "outputs": [
    {
     "name": "stdout",
     "output_type": "stream",
     "text": [
      "       n      time\n",
      "0     10  0.000000\n",
      "1    100  0.000000\n",
      "2   1000  0.000000\n",
      "3   5000  0.000100\n",
      "4  10000  0.000700\n",
      "5  50000  0.005001\n"
     ]
    }
   ],
   "source": [
    "import pandas as pd\n",
    "import time\n",
    "import random\n",
    "\n",
    "# Реалізація функції linear_search\n",
    "def linear_search(arr, target):\n",
    "    for i, val in enumerate(arr):\n",
    "        if val == target:\n",
    "            return i\n",
    "    return -1\n",
    "\n",
    "# Функція для створення датафрейму\n",
    "def measure_linear_search():\n",
    "    results = []  # Список для збереження результатів\n",
    "    sizes = [10, 100, 1000, 5000, 10000, 50000]  # Розміри масивів для тестування\n",
    "    \n",
    "    for n in sizes:\n",
    "        arr = list(range(n))  # Генеруємо масив розміру n\n",
    "        target = random.randint(0, n - 1)  # Випадковий елемент як ціль\n",
    "        \n",
    "        # Засікаємо час виконання лінійного пошуку\n",
    "        start_time = time.time()\n",
    "        for _ in range(10):  # Виконати 10 разів, щоб стабілізувати час\n",
    "            linear_search(arr, target)\n",
    "        end_time = time.time()\n",
    "        \n",
    "        # Обчислюємо середній час\n",
    "        elapsed_time = (end_time - start_time) / 10  # Середній час\n",
    "        results.append({\"n\": n, \"time\": elapsed_time})  # Зберігаємо результат\n",
    "    \n",
    "    # Створюємо датафрейм з результатів\n",
    "    df = pd.DataFrame(results)\n",
    "    return df\n",
    "\n",
    "# Використання функції\n",
    "df = measure_linear_search()\n",
    "print(df)"
   ]
  },
  {
   "cell_type": "markdown",
   "id": "3da70504-67c2-428d-8ef6-e675b5a3beb5",
   "metadata": {},
   "source": [
    "## 4) − написати функцію, яка б могла повертати датафрейм з таким складом полів: («n», «time»), де n – розмір масиву для функції bin_searh()"
   ]
  },
  {
   "cell_type": "code",
   "execution_count": 55,
   "id": "664b918f-2391-4899-b270-b23ace9a5ad9",
   "metadata": {},
   "outputs": [
    {
     "name": "stdout",
     "output_type": "stream",
     "text": [
      "       n      time\n",
      "0     10  0.000001\n",
      "1    100  0.000003\n",
      "2   1000  0.000006\n",
      "3   5000  0.000010\n",
      "4  10000  0.000008\n",
      "5  50000  0.000006\n"
     ]
    }
   ],
   "source": [
    "import pandas as pd\n",
    "import time\n",
    "import random\n",
    "\n",
    "# Функція для бінарного пошуку\n",
    "def binary_search(arr, target):\n",
    "    left, right = 0, len(arr) - 1\n",
    "    while left <= right:\n",
    "        mid = (left + right) // 2\n",
    "        if arr[mid] == target:\n",
    "            return mid\n",
    "        elif arr[mid] < target:\n",
    "            left = mid + 1\n",
    "        else:\n",
    "            right = mid - 1\n",
    "    return -1\n",
    "\n",
    "# Функція для вимірювання часу виконання бінарного пошуку для різних розмірів масивів\n",
    "def benchmark_binary_search():\n",
    "    sizes = [10, 100, 1000, 5000, 10000, 50000]  # Різні розміри масивів\n",
    "    data = []  # Список для збереження результатів\n",
    "    \n",
    "    for n in sizes:\n",
    "        arr = list(range(n))  # Генеруємо відсортований масив\n",
    "        target = random.randint(0, n - 1)  # Випадковий елемент для пошуку\n",
    "        \n",
    "        # Засікаємо час виконання за допомогою time.perf_counter() для точніших вимірювань\n",
    "        start_time = time.perf_counter()\n",
    "        for _ in range(100):  # Виконуємо 100 разів для кращої точності\n",
    "            binary_search(arr, target)\n",
    "        end_time = time.perf_counter()\n",
    "        \n",
    "        # Обчислюємо середній час\n",
    "        average_time = (end_time - start_time) / 100\n",
    "        data.append({\"n\": n, \"time\": average_time})\n",
    "    \n",
    "    # Створюємо датафрейм\n",
    "    df = pd.DataFrame(data)\n",
    "    return df\n",
    "\n",
    "# Викликаємо функцію\n",
    "df = benchmark_binary_search()\n",
    "print(df)\n",
    "\n"
   ]
  },
  {
   "cell_type": "markdown",
   "id": "631056c7-c19b-4aa1-b904-3596fdbca4c2",
   "metadata": {},
   "source": [
    "## 5) За результатами попередніх завдань побудувати графіки залежності часу виконання процедури пошуку від розміру масиву.\n"
   ]
  },
  {
   "cell_type": "code",
   "execution_count": 62,
   "id": "265916e6-c67b-46d2-b58d-2c3e4cb3fdfd",
   "metadata": {},
   "outputs": [
    {
     "data": {
      "image/png": "[encoded data removed]",
      "text/plain": [
       "<Figure size 1000x600 with 1 Axes>"
      ]
     },
     "metadata": {},
     "output_type": "display_data"
    }
   ],
   "source": [
    "import pandas as pd\n",
    "import timeit\n",
    "import random\n",
    "import matplotlib.pyplot as plt\n",
    "\n",
    "# Реалізація функції linear_search\n",
    "def linear_search(arr, target):\n",
    "    for i, val in enumerate(arr):\n",
    "        if val == target:\n",
    "            return i\n",
    "    return -1\n",
    "\n",
    "# Реалізація функції binary_search\n",
    "def binary_search(arr, target):\n",
    "    left, right = 0, len(arr) - 1\n",
    "    while left <= right:\n",
    "        mid = (left + right) // 2  # Знаходимо середній індекс\n",
    "        if arr[mid] == target:    # Якщо середній елемент — шуканий\n",
    "            return mid\n",
    "        elif arr[mid] < target:   # Шуканий елемент у правій половині\n",
    "            left = mid + 1\n",
    "        else:                     # Шуканий елемент у лівій половині\n",
    "            right = mid - 1\n",
    "    return -1  # Елемент не знайдено\n",
    "\n",
    "# Функція для вимірювання часу для лінійного пошуку\n",
    "def measure_linear_search():\n",
    "    results = []  # Список для збереження результатів\n",
    "    sizes = [10, 100, 1000, 5000, 10000, 50000]  # Розміри масивів для тестування\n",
    "    \n",
    "    for n in sizes:\n",
    "        arr = list(range(n))  # Генеруємо масив розміру n\n",
    "        target = random.randint(0, n - 1)  # Випадковий елемент як ціль\n",
    "        \n",
    "        stmt = f\"linear_search({arr}, {target})\"\n",
    "        setup = \"from __main__ import linear_search\"\n",
    "        elapsed_time = timeit.timeit(stmt, setup, number=10)  # Виконуємо 10 разів\n",
    "        \n",
    "        results.append({\"n\": n, \"time\": elapsed_time / 10})  # Обчислюємо середній час\n",
    "    \n",
    "    # Створюємо датафрейм з результатів\n",
    "    df = pd.DataFrame(results)\n",
    "    return df\n",
    "\n",
    "# Функція для вимірювання часу для бінарного пошуку\n",
    "def measure_binary_search():\n",
    "    results = []  # Список для збереження результатів\n",
    "    sizes = [10, 100, 1000, 5000, 10000, 50000]  # Розміри масивів для тестування\n",
    "    \n",
    "    for n in sizes:\n",
    "        arr = list(range(n))  # Генеруємо відсортований масив розміру n\n",
    "        target = random.randint(0, n - 1)  # Випадковий елемент як ціль\n",
    "        \n",
    "        stmt = f\"binary_search({arr}, {target})\"\n",
    "        setup = \"from __main__ import binary_search\"\n",
    "        elapsed_time = timeit.timeit(stmt, setup, number=10)  # Виконуємо 10 разів\n",
    "        \n",
    "        results.append({\"n\": n, \"time\": elapsed_time / 10})  # Обчислюємо середній час\n",
    "    \n",
    "    # Створюємо датафрейм з результатів\n",
    "    df = pd.DataFrame(results)\n",
    "    return df\n",
    "\n",
    "# Виконання обох вимірювань\n",
    "df_linear = measure_linear_search()\n",
    "df_binary = measure_binary_search()\n",
    "\n",
    "# Побудова графіків\n",
    "plt.figure(figsize=(10, 6))\n",
    "\n",
    "# Лінійний пошук\n",
    "plt.plot(df_linear['n'], df_linear['time'], label='Лінійний пошук', marker='o', color='yellow')\n",
    "\n",
    "# Бінарний пошук\n",
    "plt.plot(df_binary['n'], df_binary['time'], label='Бінарний пошук', marker='o', color='red')\n",
    "\n",
    "# Додавання заголовка та підписів\n",
    "plt.title('Час виконання пошуку в залежності від розміру масиву')\n",
    "plt.xlabel('Розмір масиву (n)')\n",
    "plt.ylabel('Час виконання (секунди)')\n",
    "plt.legend()\n",
    "\n",
    "# Відображення графіку\n",
    "plt.grid(True)\n",
    "plt.show()"
   ]
  },
  {
   "cell_type": "markdown",
   "id": "1ca6500c-4225-4b69-bc55-e38c445369fc",
   "metadata": {},
   "source": [
    "## 6) Оцінити, який з двох алгоритмів є ефективнішим і в якому діапазоні розміру задачі."
   ]
  },
  {
   "cell_type": "markdown",
   "id": "df256e17-d7ce-4863-aef1-7ac965240bac",
   "metadata": {
    "jp-MarkdownHeadingCollapsed": true
   },
   "source": [
    "З графіків, побудованих раніше, можна побачити, що лінійний пошук зростає пропорційно розміру масиву, а бінарний пошук — набагато повільніше. На малих розмірах масивів час виконання обох алгоритмів може бути схожим, але на великих масивах бінарний пошук стане значно ефективнішим"
   ]
  },
  {
   "cell_type": "markdown",
   "id": "1bf71a5c-ba31-48b7-a6ce-7760c59ed6a6",
   "metadata": {},
   "source": [
    "# <center> Контрольні питання </center>"
   ]
  },
  {
   "cell_type": "markdown",
   "id": "38e58506-02ca-4df0-940f-29f0774fe43f",
   "metadata": {},
   "source": [
    "# Сформулювати задачу пошуку\n",
    "\n",
    "**Задача:**  \n",
    "Дано масив чисел $A = [a_1, a_2, \\dots, a_n]$, де $n$ — розмір масиву. Потрібно знайти індекс елемента $x$, який задовольняє умову $A[i] = x$, або повернути $-1$, якщо такого елемента немає.\n",
    "\n",
    "---\n",
    "\n",
    "\n",
    "\n",
    "1. **Вхідні дані:**\n",
    "   - Масив $A$, який може бути:\n",
    "     - **Необов'язково відсортованим** (для лінійного пошуку).\n",
    "     - **Відсортованим за зростанням** (для бінарного пошуку).\n",
    "   - Шуканий елемент $x$, який потрібно знайти.\n",
    "\n",
    "2. **Вихідні дані:**\n",
    "   - Індекс елемента $x$ у масиві $A$, якщо він існує.\n",
    "   - Значення $-1$, якщо елемент $x$ у масиві відсутній.\n",
    "\n",
    "3. **Обмеження:**\n",
    "   - $n > 0$ — масив не порожній.\n",
    "   - Масив може містити повторювані елементи, але алгоритми повертають індекс першого знайденого"
   ]
  },
  {
   "cell_type": "markdown",
   "id": "3f705d40-1755-4ca5-98a0-5e3b3f531ef4",
   "metadata": {},
   "source": [
    "# Які критерії можна використовувати для оцінювання ефективності алгоритмів пошуку?"
   ]
  },
  {
   "cell_type": "markdown",
   "id": "affd2ca7-30fb-42ac-90bd-d7f8f5a4fc09",
   "metadata": {},
   "source": [
    "## 1. **Часова складність**\n",
    "   - Визначає, як змінюється час виконання алгоритму залежно від розміру вхідних даних $n$.\n",
    "   - Класифікація за асимптотичною складністю:\n",
    "     - **Лінійний пошук**: $O(n)$ — час виконання пропорційний розміру масиву.\n",
    "     - **Бінарний пошук**: $O(\\log n)$ — час виконання зростає логарифмічно зі збільшенням розміру масиву.\n",
    "   - Часова складність розглядається для:\n",
    "     - **Найгіршого випадку** (maximum work required).\n",
    "     - **Середнього випадку** (expected performance).\n",
    "     - **Найкращого випадку** (minimum work required).\n",
    "\n",
    "---\n",
    "\n",
    "## 2. **Просторова складність**\n",
    "   - Кількість додаткової пам’яті, необхідної алгоритму для виконання.\n",
    "   - У більшості алгоритмів пошуку просторова складність:\n",
    "     - **Лінійний пошук**: $O(1)$ — не потребує додаткової пам’яті.\n",
    "     - **Бінарний пошук**: $O(1)$ — працює в межах існуючого масиву.\n",
    "\n",
    "---\n",
    "\n",
    "## 3. **Стабільність алгоритму**\n",
    "   - Для алгоритмів, які працюють з масивами з повторюваними елементами, стабільність означає, що алгоритм знаходить перший за порядком елемент, який задовольняє умову пошуку.\n",
    "\n",
    "---\n",
    "\n",
    "## 4. **Придатність до різних типів даних**\n",
    "   - Лінійний пошук можна використовувати на **невідсортованих** масивах.\n",
    "   - Бінарний пошук працює лише для **відсортованих** масивів.\n",
    "\n",
    "---\n",
    "\n",
    "## 5. **Простота реалізації**\n",
    "   - Лінійний пошук простий у реалізації та розумінні.\n",
    "   - Бінарний пошук складніший для початківців, особливо під час роботи з рекурсивними підходами.\n",
    "\n",
    "---\n",
    "\n",
    "## 6. **Швидкість виконання**\n",
    "   - Час, який алгоритм витрачає на виконання пошуку, вимірюється на практиці (в реальних умовах) для різних розмірів масиву.\n",
    "\n",
    "---\n",
    "\n",
    "## 7. **Гнучкість**\n",
    "   - Можливість застосування алгоритму до динамічних структур даних, наприклад:\n",
    "     - Лінійний пошук підходить для списків або потоків даних.\n",
    "     - Бінарний пошук потребує структур даних, що підтримують швидке сортування.\n",
    "\n",
    "---"
   ]
  },
  {
   "cell_type": "markdown",
   "id": "5ca1dde5-05ad-4623-8a23-ea2c231b11ef",
   "metadata": {},
   "source": [
    "#  Що таке лінійний пошук і яка його асимптотична складність?\n",
    "\n",
    "## Визначення\n",
    "Лінійний пошук — це найпростіший алгоритм пошуку, який послідовно перевіряє кожен елемент масиву, доки не знайде шуканий елемент або не перегляне всі елементи.\n",
    "\n",
    "---\n",
    "\n",
    "## Алгоритм роботи\n",
    "1. Почати з першого елемента масиву.\n",
    "2. Порівнювати поточний елемент із шуканим значенням $x$.\n",
    "3. Якщо знайдено елемент, повернути його індекс.\n",
    "4. Якщо після перегляду всіх елементів шуканий не знайдено, повернути $-1$.\n",
    "\n",
    "---\n",
    "\n",
    "## Приклад\n",
    "Дано масив $A = [5, 3, 8, 6]$ і шуканий елемент $x = 8$.\n",
    "- Починаємо з першого елемента:\n",
    "  - $5 \\neq 8$ — переходимо до наступного.\n",
    "  - $3 \\neq 8$ — переходимо далі.\n",
    "  - $8 = 8$ — елемент знайдено, повертаємо його індекс (2).\n",
    "\n",
    "---\n",
    "\n",
    "## Асимптотична складність\n",
    "\n",
    "1. **Часова складність:**\n",
    "   - У найкращому випадку: $O(1)$ (елемент знайдено на першій позиції).\n",
    "   - У середньому випадку: $O(n/2) \\approx O(n)$ (потрібно переглянути половину елементів).\n",
    "   - У найгіршому випадку: $O(n)$ (елемент розташований у кінці масиву або відсутній).\n",
    "\n",
    "2. **Просторова складність:**\n",
    "   - $O(1)$ — алгоритм не потребує додаткової пам’яті, окрім змінної для індексу.\n",
    "\n",
    "---\n",
    "\n",
    "## Переваги\n",
    "- Простота реалізації.\n",
    "- Можливість роботи з невідсортованими масивами.\n",
    "\n",
    "## Недоліки\n",
    "- Низька ефективність для великих масивів."
   ]
  },
  {
   "cell_type": "markdown",
   "id": "a906e87d-1b47-4014-be29-d0994b4fea87",
   "metadata": {},
   "source": [
    "# Що таке бінарний (двійковий) пошук і в чому полягає його головний принцип роботи?\n",
    "\n",
    "## Визначення\n",
    "Бінарний пошук — це алгоритм пошуку, який працює на **відсортованих масивах**. Він повторно ділить масив на дві половини, поступово звужуючи діапазон пошуку.\n",
    "\n",
    "---\n",
    "\n",
    "## Головний принцип роботи\n",
    "1. Порівняти шуканий елемент $x$ із середнім елементом масиву.\n",
    "2. Якщо $x$ менше за середній елемент, повторити пошук у **лівій половині** масиву.\n",
    "3. Якщо $x$ більше за середній елемент, повторити пошук у **правій половині** масиву.\n",
    "4. Якщо середній елемент дорівнює $x$, повернути його індекс.\n",
    "5. Продовжувати, доки діапазон пошуку не стане порожнім.\n",
    "\n",
    "---\n",
    "\n",
    "## Часова складність\n",
    "- Найгірший і середній випадок: $O(\\log n)$.\n",
    "- Найкращий випадок: $O(1)$ (елемент знайдено одразу).\n",
    "\n",
    "---\n",
    "\n",
    "## Головна перевага\n",
    "Швидке виконання на великих масивах завдяки скороченню діапазону пошуку вдвічі на кожному кроці."
   ]
  },
  {
   "cell_type": "markdown",
   "id": "c634012d-406c-4863-aafa-0ae5ac2a9457",
   "metadata": {},
   "source": [
    "# Порівняння бінарного та лінійного пошуку\n",
    "\n",
    "## **Переваги бінарного пошуку:**\n",
    "1. **Швидкість:** Часова складність $O(\\log n)$, що значно ефективніше за $O(n)$ лінійного пошуку для великих масивів.\n",
    "2. **Придатність для великих даних:** Значно швидше знаходить елемент у великих відсортованих масивах.\n",
    "\n",
    "---\n",
    "\n",
    "## **Недоліки бінарного пошуку:**\n",
    "1. **Вимога сортування:** Масив має бути відсортований, що може зайняти $O(n \\log n)$ часу.\n",
    "2. **Складність реалізації:** Бінарний пошук складніший у програмуванні та розумінні для початківців.\n",
    "3. **Непридатність для динамічних даних:** Не працює на змінних чи несортованих структурах.\n",
    "\n",
    "---\n",
    "\n",
    "## **Переваги лінійного пошуку:**\n",
    "1. **Простота:** Легкий у реалізації та розумінні.\n",
    "2. **Універсальність:** Працює на несортованих масивах або потоках даних.\n",
    "\n",
    "---\n",
    "\n",
    "## **Недоліки лінійного пошуку:**\n",
    "1. **Повільність:** Часова складність $O(n)$ робить його неефективним для великих масивів.\n"
   ]
  },
  {
   "cell_type": "markdown",
   "id": "18367971-e71a-4b70-b587-9785bde7c18a",
   "metadata": {},
   "source": [
    "# Які ще алгоритми пошуку існують, окрім лінійного і бінарного?\n",
    "\n",
    "1. **Індексований пошук**:\n",
    "   - Пошук через індексацію елементів, наприклад, за допомогою хеш-таблиць.\n",
    "   - Швидкість пошуку: $O(1)$ у середньому випадку.\n",
    "\n",
    "2. **Пошук у дереві**:\n",
    "   - Алгоритми пошуку в бінарних деревах пошуку (BST), AVL-деревах, червоних-чорних деревах.\n",
    "   - Часова складність: $O(\\log n)$ для збалансованих дерев.\n",
    "\n",
    "3. **Пошук за допомогою хешування**:\n",
    "   - Використовує хеш-таблицю для швидкого пошуку елементів.\n",
    "   - Часова складність: $O(1)$ у середньому випадку.\n",
    "\n",
    "4. **Пошук у графах**:\n",
    "   - **Пошук в глибину (DFS)** і **пошук в ширину (BFS)** використовуються для пошуку в графах або на сітках.\n",
    "   - Часова складність: $O(V + E)$, де $V$ — кількість вершин, $E$ — кількість ребер.\n",
    "\n",
    "5. **Пошук в інтервальних деревах**:\n",
    "   - Використовується для пошуку елементів у відрізках або діапазонах.\n",
    "   - Часова складність: $O(\\log n)$.\n",
    "\n",
    "6. **Пошук за допомогою двійкового дерева відсічень**:\n",
    "   - Використовується для пошуку елементів у відсортованих даних, що підходить для операцій типу \"менше або рівно\" чи \"більше або рівно\".\n"
   ]
  },
  {
   "cell_type": "code",
   "execution_count": null,
   "id": "dfd61c71-4afc-4969-922b-f028ff4499bf",
   "metadata": {},
   "outputs": [],
   "source": []
  }
 ],
 "metadata": {
  "kernelspec": {
   "display_name": "Python 3 (ipykernel)",
   "language": "python",
   "name": "python3"
  },
  "language_info": {
   "codemirror_mode": {
    "name": "ipython",
    "version": 3
   },
   "file_extension": ".py",
   "mimetype": "text/x-python",
   "name": "python",
   "nbconvert_exporter": "python",
   "pygments_lexer": "ipython3",
   "version": "3.12.7"
  }
 },
 "nbformat": 4,
 "nbformat_minor": 5
}
