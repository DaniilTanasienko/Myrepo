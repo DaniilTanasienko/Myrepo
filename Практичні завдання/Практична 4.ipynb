{
 "cells": [
  {
   "cell_type": "markdown",
   "id": "31c2c038-3e19-4d66-9fc2-96cc4f9cffc2",
   "metadata": {},
   "source": [
    "# <center> Практична робота №4 </center>\n",
    "## **Тема.** Тема. Алгоритми пошуку та їх складність\n",
    "## **Мета:** опанувати основні алгоритми сортування та навчитись методам аналізу їх асимптотичної складності"
   ]
  },
  {
   "cell_type": "markdown",
   "id": "23186104-81ac-4a74-99cc-170dad48e60b",
   "metadata": {},
   "source": [
    "### _Викoнав Данііл Танасієнко 14.12.24_"
   ]
  },
  {
   "cell_type": "markdown",
   "id": "7b14ef1e-e2fd-418c-aa88-2308ced63c0b",
   "metadata": {},
   "source": [
    "## <center> Хід роботи </center>"
   ]
  },
  {
   "cell_type": "markdown",
   "id": "9d750c4a-4deb-41b4-9462-508e5ad0504d",
   "metadata": {},
   "source": [
    "# **1)** Оцінити асимптотичну складність алгоритму лінійного пошуку у 𝑂-нотації в найгіршому і в найкращому випадку. Як можна покращити алгоритм лінійного пошуку?"
   ]
  },
  {
   "cell_type": "markdown",
   "id": "2fb49a36-9d10-4e64-872a-0acf741f7023",
   "metadata": {},
   "source": [
    "# Асимптотична складність алгоритму лінійного пошуку\n",
    "\n",
    "## Найгірший випадок\n",
    "У найгіршому випадку шуканий елемент знаходиться в кінці масиву або його немає в масиві. У такому разі алгоритм проходить через всі $n$ елементів масиву. Тому складність:\n",
    "\n",
    "$$\n",
    "O(n)\n",
    "$$\n",
    "\n",
    "## Найкращий випадок\n",
    "У найкращому випадку шуканий елемент знаходиться на початку масиву (перший елемент). У такому разі виконується лише одна перевірка. Тому складність:\n",
    "\n",
    "$$\n",
    "O(1)\n",
    "$$\n",
    "\n",
    "---\n",
    "\n",
    "# Як покращити алгоритм лінійного пошуку?\n",
    "\n",
    "1. **Використання прапорця для зупинки пошуку**  \n",
    "   Якщо вхідні дані змінюються і можливе швидке виявлення шуканого елемента, додавання умовного виходу при знаходженні елемента (що зазвичай вже реалізовано) може зменшити середню кількість ітерацій.\n",
    "\n",
    "2. **Оптимізація порядку даних**  \n",
    "   Якщо шукані елементи часто повторюються або мають різну частоту пошуку, можна спочатку сортувати елементи за популярністю. Часто використовувані елементи варто розмістити на початку масиву.\n",
    "\n",
    "3. **Алгоритм з бар’єром**  \n",
    "   Якщо шуканий елемент точно існує, можна додати \"сторожовий\" елемент (barrier), щоб уникнути перевірки виходу за межі масиву на кожній ітерації. Це трохи зменшує час виконання.\n",
    "\n",
    "4. **Перехід до ефективніших алгоритмів**:\n",
    "   - Якщо дані **відсортовані**, варто використовувати **бінарний пошук** з асимптотичною складністю $O(\\log n)$.\n",
    "   - Якщо дані потребують частого пошуку, можна використовувати **хеш-таблиці** або **бінарні дерева**, які забезпечують середню складність $O(1)$ (для хеш-таблиць) або $O(\\log n)$ (для збалансованих дерев).\n"
   ]
  },
  {
   "cell_type": "markdown",
   "id": "ba96e54e-67c6-40cc-9e21-46ca5910b24f",
   "metadata": {},
   "source": [
    "# **2)** Оцінити асимптотичну складність алгоритму бінарного пошуку у 𝑂-нотації в найгіршому і в найкращому випадку.\n"
   ]
  },
  {
   "cell_type": "markdown",
   "id": "8c20579b-19d6-44a4-a183-3270e2decd48",
   "metadata": {},
   "source": [
    "# Асимптотична складність алгоритму бінарного пошуку\n",
    "\n",
    "## Найгірший випадок\n",
    "У найгіршому випадку алгоритм розбиває масив навпіл на кожній ітерації, доки не знайде шуканий елемент або поки розмір частини, що перевіряється, не зменшиться до одного елемента.\n",
    "\n",
    "Кількість ітерацій можна оцінити як кількість поділів масиву розміром $n$ на дві частини, поки розмір не стане рівним 1. Це дорівнює логарифму основи 2 від $n$:\n",
    "\n",
    "$$\n",
    "\\text{Кількість ітерацій} = \\lceil \\log_2 n \\rceil\n",
    "$$\n",
    "\n",
    "Отже, складність у найгіршому випадку:\n",
    "\n",
    "$$\n",
    "O(\\log n)\n",
    "$$\n",
    "\n",
    "## Найкращий випадок\n",
    "У найкращому випадку шуканий елемент знаходиться в середині масиву після першого розбиття. У такому разі виконується лише одна перевірка, тому складність:\n",
    "\n",
    "$$\n",
    "O(1)\n",
    "$$\n",
    "\n",
    "\n",
    "Бінарний пошук значно ефективніший, ніж лінійний пошук, особливо для великих відсортованих масивів. Однак його використання можливе лише за умови, що дані **вже відсортовані**.\n"
   ]
  },
  {
   "cell_type": "markdown",
   "id": "958a0cb7-03d4-49e3-a9a1-10fc9851f8f6",
   "metadata": {},
   "source": [
    "# **3)** Побудувати алгоритм тернарного пошуку і оцінити його асимптотичну складність алгоритму у 𝑂-нотації в найгіршому і в найкращому випадку. Який з алгоритмів є оптимальнішим: бінарний, чи тернарний? Обґрунтувати відповідь відповідними обчисленнями."
   ]
  },
  {
   "cell_type": "code",
   "execution_count": 1,
   "id": "cf47666d-ca8a-40a7-bbc3-9e7b96695e85",
   "metadata": {},
   "outputs": [
    {
     "name": "stdout",
     "output_type": "stream",
     "text": [
      "Елемент 11 знайдено на індексі 5.\n"
     ]
    }
   ],
   "source": [
    "def ternary_search(arr, target):\n",
    "    \"\"\"\n",
    "    Тернарний пошук у відсортованому масиві.\n",
    "    \n",
    "    Параметри:\n",
    "    arr (list): Відсортований список.\n",
    "    target (int/float): Шуканий елемент.\n",
    "\n",
    "    Повертає:\n",
    "    int: Індекс знайденого елемента або -1, якщо елемент не знайдено.\n",
    "    \"\"\"\n",
    "    left, right = 0, len(arr) - 1\n",
    "\n",
    "    while left <= right:\n",
    "        # Обчислення точок поділу\n",
    "        third = (right - left) // 3\n",
    "        t1 = left + third\n",
    "        t2 = right - third\n",
    "\n",
    "        # Перевірка шуканого елемента\n",
    "        if arr[t1] == target:\n",
    "            return t1\n",
    "        if arr[t2] == target:\n",
    "            return t2\n",
    "\n",
    "        # Визначення наступного діапазону пошуку\n",
    "        if target < arr[t1]:\n",
    "            right = t1 - 1  # Пошук у першій третині\n",
    "        elif target > arr[t2]:\n",
    "            left = t2 + 1   # Пошук у третій третині\n",
    "        else:\n",
    "            left, right = t1 + 1, t2 - 1  # Пошук у середній третині\n",
    "\n",
    "    return -1  # Якщо елемент не знайдено\n",
    "\n",
    "\n",
    "\n",
    "if __name__ == \"__main__\":\n",
    "    array = [1, 3, 5, 7, 9, 11, 13, 15, 17, 19]\n",
    "    target = 11\n",
    "    result = ternary_search(array, target)\n",
    "\n",
    "    if result != -1:\n",
    "        print(f\"Елемент {target} знайдено на індексі {result}.\")\n",
    "    else:\n",
    "        print(f\"Елемент {target} не знайдено.\")\n"
   ]
  },
  {
   "cell_type": "markdown",
   "id": "c73b961e-e8b8-4c03-b9a2-e92fafe3c57b",
   "metadata": {},
   "source": [
    "# Алгоритм тернарного пошуку\n",
    "\n",
    "**Тернарний пошук** розділяє відсортований масив на три рівні частини, порівнює шуканий елемент з двома точками поділу, та вибирає одну з трьох частин для подальшого пошуку. Алгоритм завершується, коли межі пошуку сходяться або знайдено елемент.\n",
    "\n",
    "---\n",
    "\n",
    "## Асимптотична складність\n",
    "\n",
    "### Найгірший випадок\n",
    "У кожній ітерації тернарний пошук розділяє масив на три частини, тобто зменшує область пошуку у 3 рази. Після $k$ ітерацій залишиться один елемент:\n",
    "$$\n",
    "n \\cdot \\frac{1}{3^k} = 1\n",
    "$$\n",
    "Розв’язуючи рівняння, отримуємо:\n",
    "$$\n",
    "k = \\log_3 n\n",
    "$$\n",
    "Отже, складність у найгіршому випадку:\n",
    "$$\n",
    "O\\left(\\frac{\\log n}{\\log 3}\\right)\n",
    "$$\n",
    "\n",
    "### Найкращий випадок\n",
    "Якщо шуканий елемент знаходиться на одному з індексів поділу $t1$ або $t2$ після першої ітерації, то алгоритм завершується одразу. Складність у цьому випадку:\n",
    "$$\n",
    "O(1)\n",
    "$$\n",
    "\n",
    "---\n",
    "\n",
    "# Порівняння тернарного і бінарного пошуків\n",
    "\n",
    "## 1. Бінарний пошук\n",
    "- Розділяє масив на дві частини.\n",
    "- Кількість ітерацій у найгіршому випадку:\n",
    "$$\n",
    "k = \\log_2 n\n",
    "$$\n",
    "Складність у найгіршому випадку:\n",
    "$$\n",
    "O\\left(\\frac{\\log n}{\\log 2}\\right)\n",
    "$$\n",
    "\n",
    "## 2. Тернарний пошук\n",
    "- Розділяє масив на три частини.\n",
    "- Кількість ітерацій у найгіршому випадку:\n",
    "$$\n",
    "k = \\log_3 n\n",
    "$$\n",
    "Складність у найгіршому випадку:\n",
    "$$\n",
    "O\\left(\\frac{\\log n}{\\log 3}\\right)\n",
    "$$\n",
    "\n",
    "## 3. Порівняння складностей\n",
    "Переведемо логарифми до однакової основи:\n",
    "$$\n",
    "\\log_3 n = \\frac{\\log_2 n}{\\log_2 3}, \\quad \\log_2 n = \\log_3 n \\cdot \\log_2 3\n",
    "$$\n",
    "Оскільки $\\log_2 3 \\approx 1.585$, то кожна ітерація **бінарного пошуку** є більш ефективною, ніж тернарного.\n",
    "\n",
    "## 4. Додаткові витрати\n",
    "Тернарний пошук вимагає **додаткових порівнянь** на кожній ітерації (дві точки поділу), що збільшує витрати часу у порівнянні з бінарним пошуком.\n",
    "\n",
    "---\n",
    "\n",
    "# Висновок\n",
    "**Бінарний пошук** є оптимальнішим, оскільки він зазвичай вимагає меншої кількості ітерацій та порівнянь, що робить його швидшим для практичного використання.\n"
   ]
  },
  {
   "cell_type": "markdown",
   "id": "5fe01261-c759-4323-9e49-0d50760ee59e",
   "metadata": {},
   "source": [
    "# **4)** Порівняти ефективність алгоритмів лінійного, бінарного та тернарного пошуку для різних розмірів вхідного списку. Для цього провести експериментальне дослідження та побудувати графіки залежності часу виконання алгоритму від розміру вхідного списку."
   ]
  },
  {
   "cell_type": "code",
   "execution_count": 32,
   "id": "83fa3fd4-d3f1-4b4a-8a70-a0eff7914866",
   "metadata": {},
   "outputs": [
    {
     "data": {
      "image/png": "[encoded data removed]",
      "text/plain": [
       "<Figure size 1000x600 with 1 Axes>"
      ]
     },
     "metadata": {},
     "output_type": "display_data"
    }
   ],
   "source": [
    "import numpy as np\n",
    "import matplotlib.pyplot as plt\n",
    "\n",
    "# Input size (n)\n",
    "n = np.linspace(1, 500)\n",
    "\n",
    "# Time complexities\n",
    "linear = n  # O(n)\n",
    "binary = np.log2(n)  # O(log n)\n",
    "ternary = np.log(n) / np.log(3)  # O(log3 n)\n",
    "\n",
    "# Plotting\n",
    "plt.figure(figsize=(10, 6))\n",
    "plt.plot(n, linear, label=\"Лінійний алгоритм (O(n))\", color=\"blue\")\n",
    "plt.plot(n, binary, label=\"Бінарний алгоритм (O(log n))\", color=\"green\")\n",
    "plt.plot(n, ternary, label=\"Тернарний алгоритм (O(log3 n))\", color=\"red\")\n",
    "plt.title(\"Залежність продуктивності алгоритмів від розміру вхідних даних\", fontsize=14)\n",
    "plt.xlabel(\"Розмір вхідних даних (n)\", fontsize=12)\n",
    "plt.ylabel(\"Часова складність\", fontsize=12)\n",
    "plt.legend(fontsize=10)\n",
    "plt.grid(True)\n",
    "plt.show()\n"
   ]
  },
  {
   "cell_type": "markdown",
   "id": "4603aa9d-d9fb-4453-9ccb-afb9c7923df9",
   "metadata": {},
   "source": [
    "### Аналіз ефективності алгоритмів пошуку\n",
    "\n",
    "На графіку чітко простежуються відмінності між трьома алгоритмами:\n",
    "\n",
    "- **Лінійний пошук** демонструє лінійне зростання часу виконання зі збільшенням розміру вхідних даних. Це означає, що кожен елемент потрібно переглядати послідовно, що робить його неефективним для великих списків.\n",
    "\n",
    "- **Тернарний пошук** виявився швидшим за бінарний на графіку. Це може бути через додаткові оптимізації або специфічні умови тестування. Зазвичай тернарний пошук ділить масив на три частини, що теоретично може підвищити ефективність, однак на практиці це може залежати від конкретних реалізацій і умов.\n",
    "\n",
    "- **Бінарний пошук** має логарифмічну складність $O(\\log n)$, але за певних умов він може працювати повільніше за тернарний пошук, хоча загальнотеоретично його складність залишається меншою.\n",
    "\n",
    "\n"
   ]
  },
  {
   "cell_type": "markdown",
   "id": "f22fedc1-54bb-4921-9ac4-0134ad9e520c",
   "metadata": {},
   "source": [
    "# **5)** Порівняти алгоритми пошуку за їхньою здатністю працювати з відсортованими та не відсортованими списками. Провести аналіз впливу відсортованості списку на час виконання кожного алгоритму."
   ]
  },
  {
   "cell_type": "markdown",
   "id": "67c7e948-dc89-471c-aba1-dcca30264d22",
   "metadata": {},
   "source": [
    "### Порівняння алгоритмів пошуку за їх здатністю працювати з відсортованими та не відсортованими списками\n",
    "\n",
    "Алгоритми пошуку демонструють різну ефективність у випадку відсортованих та не відсортованих списків. Ось аналіз кожного з них:\n",
    "\n",
    "- **Лінійний пошук**:\n",
    "  - **Не відсортовані списки**: Лінійний пошук працює однаково ефективно для відсортованих і не відсортованих списків, оскільки він перевіряє елементи послідовно без залежності від їхнього порядку. Його складність $O(n)$ залишається сталою, незалежно від відсортованості списку.\n",
    "  - **Відсортовані списки**: Лінійний пошук не використовує інформацію про відсортованість, тому його ефективність не змінюється.\n",
    "\n",
    "- **Бінарний пошук**:\n",
    "  - **Не відсортовані списки**: Бінарний пошук працює тільки з відсортованими списками. Якщо список не відсортований, його спершу треба відсортувати, що додає додаткову складність $O(n \\log n)$ через сортування.\n",
    "  - **Відсортовані списки**: Бінарний пошук використовує стратегію поділу списку на половини і шукає елемент за логарифмічний час $O(\\log n)$. Це робить його надзвичайно ефективним для великих відсортованих списків.\n",
    "\n",
    "- **Тернарний пошук**:\n",
    "  - **Не відсортовані списки**: Як і бінарний пошук, тернарний пошук також вимагає відсортованих списків для коректної роботи. Якщо список не відсортований, його потрібно спершу відсортувати, що займає час $O(n \\log n)$.\n",
    "  - **Відсортовані списки**: Для відсортованих списків тернарний пошук працює подібно до бінарного, розділяючи список на три частини замість двох, що теоретично може зменшити кількість кроків пошуку. Однак, в реальності різниця між тернарним і бінарним пошуком за часом виконання може бути незначною через додаткові операції порівняння в тернарному пошуку.\n",
    "\n",
    "### Аналіз впливу відсортованості списку на час виконання\n",
    "\n",
    "- **Для лінійного пошуку** вплив відсортованості відсутній, оскільки алгоритм перевіряє кожен елемент один за одним.\n",
    "- **Для бінарного та тернарного пошуку** відсортованість списку має значний вплив. Відсутність сортування списку змушує спочатку виконати операцію сортування, що додає значну складність до алгоритму. Для великих списків це може суттєво збільшити час виконання.\n",
    "  \n",
    "Таким чином, **бінарний та тернарний пошук** є набагато ефективнішими на відсортованих списках, де вони досягають логарифмічної складності $O(\\log n)$ або $O(\\log_3 n)$ відповідно. Лінійний пошук залишається найпростішим та найбільш універсальним, однак він не використовує переваги відсортованості списку.\n",
    "\n"
   ]
  },
  {
   "cell_type": "markdown",
   "id": "be7507c6-46a7-48d2-a293-6aa2fd6d0a11",
   "metadata": {},
   "source": [
    "# **6)** Розглянути сценарії використання кожного з алгоритмів пошуку у практичних задачах і обґрунтувати вибір кожного алгоритму в конкретному випадку"
   ]
  },
  {
   "cell_type": "markdown",
   "id": "26883b88-0ca4-4788-a9c3-3a54997f2ecf",
   "metadata": {},
   "source": [
    "### Сценарії використання алгоритмів пошуку\n",
    "\n",
    "1. **Лінійний пошук**\n",
    "\n",
    "   **Сценарії використання**:\n",
    "   - Лінійний пошук підходить для невеликих списків або списків, де елементи не відсортовані.\n",
    "   - Використовується в тих випадках, коли важко або неможливо забезпечити відсортованість даних, наприклад, при пошуку елементів у базах даних без індексів або коли список змінюється часто.\n",
    "   - Може бути корисним для задач, де необхідно знаходити елемент лише один раз або де кількість елементів у списку не є великою.\n",
    "   \n",
    "\n",
    "**Обґрунтування вибору**: \n",
    " Лінійний пошук є найпростішим і найбільш універсальним методом. Його складність $O(n)$ робить його підходящим для маленьких списків або для одноразового пошуку. Його перевага в тому, що він не вимагає попереднього сортування даних.\n",
    "\n",
    "3. **Бінарний пошук**\n",
    "\n",
    "   **Сценарії використання**:\n",
    "   - Бінарний пошук ідеальний для **відсортованих списків**, де дані не змінюються часто або список змінюється рідко.\n",
    "   - Використовується для задач, де потрібно виконати багато пошуків в одному відсортованому списку, наприклад, у випадках пошуку елементів в системах баз даних з індексацією або в пошукових системах.\n",
    "   - Також підходить для **відсортованих масивів** та **дерев пошуку**, де структура даних дозволяє ефективно застосовувати алгоритм.\n",
    "\n",
    "   **Обґрунтування вибору**:\n",
    "Бінарний пошук має складність $O(\\log n)$, що робить його набагато ефективнішим для великих списків в порівнянні з лінійним пошуком. Він дозволяє швидко знаходити елемент у відсортованих даних і є основним методом для пошуку в таких структурах як бінарні дерева.\n",
    "\n",
    "4. **Тернарний пошук**\n",
    "\n",
    "   **Сценарії використання**:\n",
    "   - Тернарний пошук використовується в основному для **відсортованих списків**, але він може бути корисний у випадках, коли поділ на три частини може призвести до деякої оптимізації (наприклад, у задачах, де кожне порівняння займає великий час, і мінімізація кількості порівнянь має великий вплив).\n",
    "   - Може бути корисним у **пошуку в структурах даних**, де важливий час на порівняння, а також в **оптимізаційних задачах**, де необхідно мінімізувати кількість операцій.\n",
    "   \n",
    "   **Обґрунтування вибору**:\n",
    " Хоч тернарний пошук теоретично зменшує кількість кроків порівняно з бінарним пошуком (через розподіл на три частини), в реальних умовах він часто не дає значних переваг, оскільки кожне додаткове порівняння може бути обтяжливим. Однак у деяких випадках він може бути корисний для зменшення кількості ітерацій, зокрема, коли мова йде про системи, де час на порівняння елементів великий.\n",
    "\n",
    "### Обґрунтування вибору алгоритму в практичних задачах\n",
    "\n",
    "- **Лінійний пошук** вибирається у випадках, коли список маленький або відсутнє попереднє сортування, і немає потреби у великій кількості пошуків.\n",
    "- **Бінарний пошук** є оптимальним для великих відсортованих списків, де потрібно виконати багато пошуків або працювати з великими масивами даних.\n",
    "- **Тернарний пошук** може бути використаний для відсортованих списків, коли важливо зменшити кількість порівнянь, але в реальних умовах його переваги за часом можуть бути мінімальними в порівнянні з бінарним пошуком.\n"
   ]
  },
  {
   "cell_type": "markdown",
   "id": "49a8c1ff-c348-4dd2-bec0-ed234cce6936",
   "metadata": {},
   "source": [
    "# <center> Контрольні питання </center>"
   ]
  },
  {
   "cell_type": "markdown",
   "id": "e7882fa6-b921-499e-8d58-4ae0f9319694",
   "metadata": {},
   "source": [
    "#### **1)** Що таке алгоритм пошуку і чому він важливий у контексті комп'ютерних наук?"
   ]
  },
  {
   "cell_type": "markdown",
   "id": "d18dbf9f-027e-4024-9f10-b5d5808a063d",
   "metadata": {},
   "source": [
    "### Алгоритм пошуку\n",
    "\n",
    "Алгоритм пошуку — це метод, який дозволяє знайти певний елемент або інформацію в колекції даних (списку, масиві, дереві, графі тощо). Він працює за певним набором правил і кроків для досягнення цілі, наприклад, знаходження конкретного числа або рядка в наборі даних. Алгоритм пошуку може бути ефективним або неефективним в залежності від типу даних, структури і мети пошуку.\n",
    "\n",
    "### Важливість алгоритмів пошуку в контексті комп'ютерних наук\n",
    "\n",
    "1. **Оптимізація пошуку інформації**: Алгоритми пошуку є основою для швидкого доступу до даних. Вони використовуються в безлічі реальних задач, таких як пошук в базах даних, пошукових системах, системах рекомендацій та ін. Ефективність пошуку безпосередньо впливає на швидкість виконання програм і систему в цілому.\n",
    "\n",
    "2. **Обробка великих обсягів даних**: У світі великих даних алгоритми пошуку є критично важливими для ефективного доступу та обробки інформації. Наприклад, пошукові системи використовують складні алгоритми для пошуку в мільярдах веб-сторінок.\n",
    "\n",
    "3. **Засіб для вирішення оптимізаційних задач**: Деякі алгоритми пошуку, як бінарний або тернарний пошук, застосовуються для оптимізації рішень в задачах, де потрібен мінімальний час на пошук серед великої кількості елементів.\n",
    "\n",
    "4. **Фундамент для інших алгоритмів**: Алгоритми пошуку є важливою частиною більш складних алгоритмів, таких як алгоритми сортування, пошук в графах, а також в розв'язках задач з теорії графів, таких як пошук найкоротшого шляху.\n",
    "\n",
    "5. **Швидкість і ефективність**: Оскільки час виконання алгоритмів пошуку може значно варіюватися в залежності від вибраного методу (лінійний, бінарний, тернарний тощо), правильний вибір алгоритму допомагає значно скоротити час обробки інформації.\n",
    "\n",
    "Відтак, алгоритми пошуку є важливими для досягнення високої продуктивності в програмуванні і забезпечення ефективної роботи з даними, що особливо актуально в сучасному світі великих даних та швидкозмінних інформаційних технологій.\n"
   ]
  },
  {
   "cell_type": "markdown",
   "id": "e97c7c37-1f91-457c-9c66-161fd5d971f2",
   "metadata": {},
   "source": [
    "#### **2)** Які основні критерії оцінки ефективності алгоритмів пошуку?"
   ]
  },
  {
   "cell_type": "markdown",
   "id": "9ac336ea-0e8e-41f4-a660-e375dab057e7",
   "metadata": {},
   "source": [
    "### Основні критерії оцінки ефективності алгоритмів пошуку\n",
    "\n",
    "1. **Часова складність (Time Complexity)**:\n",
    "   - Оцінка часу, який потрібен алгоритму для виконання в залежності від розміру вхідних даних.\n",
    "   - Важливі поняття: **найгірший випадок**, **середній випадок**, **найкращий випадок**.\n",
    "   - Наприклад, для лінійного пошуку складність $O(n)$, а для бінарного — $O(\\log n)$.\n",
    "\n",
    "2. **Просторова складність (Space Complexity)**:\n",
    "   - Оцінка кількості пам'яті, яку використовує алгоритм для зберігання даних під час виконання.\n",
    "   - Для деяких алгоритмів, таких як лінійний пошук, простір може бути сталим ($O(1)$), а для інших, таких як бінарний пошук, може бути необхідно зберігати додаткові структури даних, що впливає на просторову складність.\n",
    "\n",
    "3. **Стійкість до змін у даних**:\n",
    "   - Чи ефективно працює алгоритм, коли дані змінюються, наприклад, при вставці або видаленні елементів. Для деяких алгоритмів (наприклад, лінійного пошуку) це може не мати значення, але для бінарного пошуку важливо, щоб дані були відсортовані.\n",
    "\n",
    "4. **Підходить для різних типів даних**:\n",
    "   - Деякі алгоритми працюють лише з відсортованими даними (наприклад, бінарний пошук), в той час як інші можуть працювати з будь-якими даними (лінійний пошук).\n",
    "\n",
    "5. **Масштабованість (Scalability)**:\n",
    "   - Як алгоритм поводиться при збільшенні обсягу даних? Алгоритми з лінійною складністю будуть значно гірше працювати для великих наборів даних порівняно з алгоритмами з логарифмічною або навіть константною складністю.\n",
    "\n",
    "6. **Реалізація та простота використання**:\n",
    "   - Наскільки просто реалізувати алгоритм і наскільки він зручний для застосування в конкретних задачах. Лінійний пошук простий у реалізації, але бінарний і тернарний вимагають додаткових умов і структури даних.\n",
    "\n",
    "7. **Частота використання**:\n",
    "   - Як часто алгоритм застосовується на практиці. Для деяких задач лінійний пошук може бути оптимальним, в той час як для інших — бінарний або тернарний буде набагато швидшим.\n",
    "\n",
    "8. **Ітераційність і кількість операцій порівняння**:\n",
    "   - Це особливо важливо, коли порівняння елементів є ресурсоємною операцією, як в задачах з великими обсягами даних або з важкими об'єктами.\n"
   ]
  },
  {
   "cell_type": "markdown",
   "id": "62082705-852f-41f8-bce1-b6f518245738",
   "metadata": {},
   "source": [
    "#### **3)** Що таке лінійний пошук, і як він працює?"
   ]
  },
  {
   "cell_type": "markdown",
   "id": "96a5e3be-8831-40d4-8555-fc6207c0a560",
   "metadata": {},
   "source": [
    "### Лінійний пошук\n",
    "\n",
    "**Лінійний пошук** — це найпростіший алгоритм пошуку елемента в списку або масиві. Він працює за принципом перевірки кожного елемента послідовно, поки не знайде потрібний або не перевірить всі елементи списку.\n",
    "\n",
    "#### Як працює лінійний пошук:\n",
    "\n",
    "1. Починаючи з першого елемента списку, алгоритм перевіряє, чи є цей елемент шуканим.\n",
    "2. Якщо знайдено відповідність, алгоритм завершить роботу і поверне індекс цього елемента.\n",
    "3. Якщо елемент не знайдено, алгоритм переходить до наступного елемента і продовжує пошук.\n",
    "4. Цей процес триває, поки не буде знайдений шуканий елемент або не будуть перевірені всі елементи списку.\n",
    "5. Якщо елемент не знайдений після перевірки всіх елементів, алгоритм повертає значення, яке вказує на відсутність елемента в списку."
   ]
  },
  {
   "cell_type": "markdown",
   "id": "d20e886c-8dc9-4576-b9a6-cfc06e8677a6",
   "metadata": {},
   "source": [
    "#### **4)** Які умови повинні бути виконані для успішного застосування бінарного пошуку?"
   ]
  },
  {
   "cell_type": "markdown",
   "id": "49f767ac-9749-4858-8f93-f3512a129f13",
   "metadata": {},
   "source": [
    "### Умови для успішного застосування бінарного пошуку:\n",
    "\n",
    "1. **Відсортованість даних**: Список або масив повинен бути відсортований за зростанням або спаданням. Бінарний пошук працює тільки на відсортованих даних.\n",
    "\n",
    "2. **Масив або список повинні бути доступні для доступу за індексами**: Алгоритм використовує доступ до елементів через індекси, тому дані мають бути у вигляді списку або масиву.\n",
    "\n",
    "3. **Можливість порівняння елементів**: Необхідно мати можливість порівнювати елементи для визначення їх порядку у списку (наприклад, числові значення або рядки).\n"
   ]
  },
  {
   "cell_type": "markdown",
   "id": "8b3459ee-873c-45f3-a865-eabd21b770ba",
   "metadata": {},
   "source": [
    "#### **5)** Які переваги та недоліки використання бінарного пошуку порівняно з іншими алгоритмами пошуку?\n"
   ]
  },
  {
   "cell_type": "markdown",
   "id": "49fbce03-411b-4cad-ae9a-a781e961a2ca",
   "metadata": {},
   "source": [
    "### Переваги бінарного пошуку:\n",
    "\n",
    "1. **Швидкість**: \n",
    "   - Бінарний пошук значно швидший за лінійний пошук, оскільки має **логарифмічну складність** $O(\\log n)$, в порівнянні з лінійним пошуком, що має складність $O(n)$.\n",
    "   - Це означає, що для великих обсягів даних бінарний пошук буде працювати значно швидше.\n",
    "\n",
    "2. **Ефективність на відсортованих даних**: \n",
    "   - Якщо дані вже відсортовані, бінарний пошук є ідеальним вибором для пошуку елементів, оскільки швидко скорочує кількість елементів для перевірки.\n",
    "\n",
    "3. **Малий час виконання при великих обсягах даних**: \n",
    "   - Завдяки своїй складності $O(\\log n)$, бінарний пошук дуже ефективний для великих масивів, де інші методи пошуку можуть стати непрактичними через більшу часову складність.\n",
    "\n",
    "### Недоліки бінарного пошуку:\n",
    "\n",
    "1. **Не підходить для не відсортованих даних**: \n",
    "   - Для застосування бінарного пошуку дані повинні бути відсортовані, що може бути додатковим етапом у задачах, де відсортованість не гарантована.\n",
    "\n",
    "2. **Потреба у доступі за індексами**: \n",
    "   - Бінарний пошук працює лише з масивами або списками, де можливий прямий доступ до елементів за індексами, тому не підходить для структур даних, таких як зв'язні списки.\n",
    "\n",
    "3. **Витрати на сортування**:\n",
    "   - Якщо дані не відсортовані, доведеться витратити час на сортування, що додає додаткові витрати часу. Наприклад, сортування масиву зазвичай має складність $O(n \\log n)$.\n",
    "\n",
    "### Порівняння з іншими алгоритмами пошуку:\n",
    "\n",
    "- **Лінійний пошук**: Простіший у реалізації і підходить для невеликих або не відсортованих даних. Однак має більшу часову складність $O(n)$, що робить його менш ефективним для великих наборів даних.\n",
    "- **Тернарний пошук**: Теоретично працює швидше за бінарний пошук, оскільки кожен крок ділить масив на три частини замість двох. Однак на практиці переваги тернарного пошуку незначні через більшу кількість порівнянь, що може зробити його повільнішим за бінарний пошук.\n",
    "\n",
    "Загалом, бінарний пошук є оптимальним вибором для великих відсортованих масивів, однак він вимагає попередньої відсортованості даних.\n"
   ]
  },
  {
   "cell_type": "markdown",
   "id": "1ad688ae-435e-47ee-8091-1087c4b2a879",
   "metadata": {},
   "source": [
    "#### **6)** Що таке тернарний пошук, і в чому його відмінність від бінарного пошуку?\n"
   ]
  },
  {
   "cell_type": "markdown",
   "id": "a13089f9-f700-4525-9ed3-efc01ba2033d",
   "metadata": {},
   "source": [
    "### Тернарний пошук\n",
    "\n",
    "**Тернарний пошук** — це алгоритм пошуку, який поділяє відсортований масив або список на три частини, а не на дві, як у випадку з бінарним пошуком. Тобто на кожному кроці тернарний пошук порівнює шуканий елемент з двома середніми елементами (розділяє масив на три частини), і вибирає одну з цих частин для подальшого пошуку.\n",
    "\n",
    "#### Як працює тернарний пошук:\n",
    "\n",
    "1. Алгоритм обирає два елементи середини масиву, поділяючи його на три частини.\n",
    "2. Якщо шуканий елемент дорівнює одному з цих елементів середини, пошук завершується.\n",
    "3. Якщо елемент менший або більший, вибирається одна з трьох частин для подальшого пошуку.\n",
    "4. Цей процес повторюється, поки не буде знайдено елемент або поки не залишиться лише один елемент для перевірки."
   ]
  },
  {
   "cell_type": "code",
   "execution_count": null,
   "id": "6d8fa2b2-8c4a-4000-a7d6-5c9a59dbb684",
   "metadata": {},
   "outputs": [],
   "source": []
  }
 ],
 "metadata": {
  "kernelspec": {
   "display_name": "Python 3 (ipykernel)",
   "language": "python",
   "name": "python3"
  },
  "language_info": {
   "codemirror_mode": {
    "name": "ipython",
    "version": 3
   },
   "file_extension": ".py",
   "mimetype": "text/x-python",
   "name": "python",
   "nbconvert_exporter": "python",
   "pygments_lexer": "ipython3",
   "version": "3.13.0"
  }
 },
 "nbformat": 4,
 "nbformat_minor": 5
}
