{
 "cells": [
  {
   "cell_type": "markdown",
   "id": "b1739649-d018-4800-9712-3f87727f9e38",
   "metadata": {},
   "source": [
    "# <center> Практична робота №6 </center>\n",
    "## **Тема.** Тема. Графи. Найкоротші шляхи\n",
    "## **Мета:** набути практичних навичок розв’язання задач пошуку найкоротших шляхів у графі та оцінювання їх асимптотичної складності.\n",
    "### _Викoнав Данііл Танасієнко 17.12.24_"
   ]
  },
  {
   "cell_type": "markdown",
   "id": "c980098f-02d2-435a-b04c-8f1cb845cefe",
   "metadata": {},
   "source": [
    "## <center> Хід роботи </center>"
   ]
  },
  {
   "cell_type": "markdown",
   "id": "d5027abd-1459-4f78-975f-e56b3536348b",
   "metadata": {},
   "source": [
    "# **1)** (варіант 6) Виконати індивідуальне завдання. Завдання полягає у знаходженні найкоротших шляхів від вершини 1 до всіх інших за допомогою алгоритму,вказаному у варіанті. Номер варіанта відповідає номеру студента у списку групи. У разі, якщо було досягнуто кінця списку задач, потрібно циклічно повернутися на його початок.\n"
   ]
  },
  {
   "attachments": {
    "26033b78-6f2e-44fd-bf6d-7b9c39a82897.PNG": {
     "image/png": "[encoded data removed]"
    }
   },
   "cell_type": "markdown",
   "id": "03ce5955-30a1-4c89-94c4-030a7c35a375",
   "metadata": {},
   "source": [
    "![Снимок.PNG](attachment:26033b78-6f2e-44fd-bf6d-7b9c39a82897.PNG)"
   ]
  },
  {
   "cell_type": "markdown",
   "id": "58cc335f-5758-4bdc-ab19-30cd338ccf4d",
   "metadata": {},
   "source": [
    "### **Вхідні дані**:  \n",
    "- **Вершини графа**: 6  \n",
    "- **Ребра графа** (неорієнтований):  \n",
    "   1. $1 \\leftrightarrow 2: 7$  \n",
    "   2. $1 \\leftrightarrow 3: 3$  \n",
    "   3. $1 \\leftrightarrow 4: 1$  \n",
    "   4. $2 \\leftrightarrow 4: 2$  \n",
    "   5. $2 \\leftrightarrow 6: 8$  \n",
    "   6. $3 \\leftrightarrow 4: 7$  \n",
    "   7. $3 \\leftrightarrow 5: 11$  \n",
    "   8. $4 \\leftrightarrow 5: 5$  \n",
    "   9. $4 \\leftrightarrow 6: 4$  \n",
    "   10. $5 \\leftrightarrow 6: 6$  \n"
   ]
  },
  {
   "cell_type": "markdown",
   "id": "62fd2b82-2b15-4838-ab0c-b59d143a12ac",
   "metadata": {},
   "source": [
    "# Алгоритм Беллмана-Форда\n",
    "\n",
    "1. **Ініціалізація**:\n",
    "   - $D(1) = 0$ — початкова вершина.\n",
    "   - $D(2) = D(3) = D(4) = D(5) = D(6) = \\infty$.\n",
    "\n",
    "2. **Кількість ітерацій**:\n",
    "   $V - 1 = 6 - 1 = 5$.\n"
   ]
  },
  {
   "cell_type": "markdown",
   "id": "135cbbd7-2564-4ac7-95d3-4033bc613558",
   "metadata": {},
   "source": [
    "## Ітерація 1\n",
    "\n",
    "1. $1 \\leftrightarrow 4 : D(4) = \\min(\\infty, 0 + 1) = 1$.\n",
    "2. $4 \\leftrightarrow 2 : D(2) = \\min(\\infty, 1 + 2) = 3$.\n",
    "3. $1 \\leftrightarrow 3 : D(3) = \\min(\\infty, 0 + 3) = 3$.\n",
    "4. $4 \\leftrightarrow 6 : D(6) = \\min(\\infty, 1 + 4) = 5$.\n",
    "5. $4 \\leftrightarrow 5 : D(5) = \\min(\\infty, 1 + 5) = 6$.\n",
    "\n",
    "### Поточні значення:\n",
    "- $D(1) = 0, D(2) = 3, D(3) = 3, D(4) = 1, D(5) = 6, D(6) = 5$.\n"
   ]
  },
  {
   "cell_type": "markdown",
   "id": "08c72d26-a42a-4a0c-b79d-723d8c0749c8",
   "metadata": {},
   "source": [
    "## Ітерація 2\n",
    "\n",
    "Перевіряємо всі ребра ще раз. Значення не змінюються, оскільки вже знайдено найкоротші відстані:\n",
    "\n",
    "1. $4 \\leftrightarrow 2 : D(2) = \\min(3, 1 + 2) = 3$.\n",
    "2. $1 \\leftrightarrow 3 : D(3) = \\min(3, 0 + 3) = 3$.\n",
    "3. $4 \\leftrightarrow 6 : D(6) = \\min(5, 1 + 4) = 5$.\n",
    "4. $4 \\leftrightarrow 5 : D(5) = \\min(6, 1 + 5) = 6$.\n"
   ]
  },
  {
   "cell_type": "markdown",
   "id": "71d8c060-59fc-4811-82d3-a7f9b9c242e3",
   "metadata": {},
   "source": [
    "## Ітерація 3-5\n",
    "\n",
    "Подальші перевірки не змінюють значень, оскільки оптимальні шляхи вже знайдені\n",
    "\n"
   ]
  },
  {
   "cell_type": "markdown",
   "id": "3ef2687f-4fee-4970-8699-e8582a050a46",
   "metadata": {},
   "source": [
    "## Результат:\n",
    "\n",
    "Найкоротші відстані від вершини 1 до всіх інших вершин:\n",
    "\n",
    "- $D(1) = 0$\n",
    "- $D(2) = 3$ (шлях: $1 \\rightarrow 4 \\rightarrow 2$)\n",
    "- $D(3) = 3$ (шлях: $1 \\rightarrow 3$)\n",
    "- $D(4) = 1$ (шлях: $1 \\rightarrow 4$)\n",
    "- $D(5) = 6$ (шлях: $1 \\rightarrow 4 \\rightarrow 5$)\n",
    "- $D(6) = 5$ (шлях: $1 \\rightarrow 4 \\rightarrow 6$)\n"
   ]
  },
  {
   "cell_type": "markdown",
   "id": "1921567b-c43c-4c01-9ef6-11dbe41c242a",
   "metadata": {},
   "source": [
    "# <center> Контрольні питання </center>"
   ]
  },
  {
   "cell_type": "markdown",
   "id": "fcc041e7-ac1c-4a39-8d27-0b051180924b",
   "metadata": {},
   "source": [
    "#### **1)** Що таке граф і які головні складові його структури?\n",
    "\n",
    "**Граф** — це математична структура, що використовується для моделювання парних зв'язків між об'єктами. Граф складається з **вершин** (вузлів) та **ребер** (зв'язків), які з'єднують ці вершини.\n",
    "\n",
    "## Головні складові графа:\n",
    "\n",
    "1. **Вершини (nodes, vertices)**:  \n",
    "   - Це основні об'єкти графа.  \n",
    "   - Позначаються, як правило, символами або числами: $V = \\{v_1, v_2, v_3, \\dots\\}$.  \n",
    "   - Вершини представляють елементи, між якими встановлюються зв'язки.\n",
    "\n",
    "2. **Ребра (edges)**:  \n",
    "   - Це зв'язки між вершинами графа.  \n",
    "   - Позначаються у вигляді пар: $E = \\{(v_1, v_2), (v_2, v_3), \\dots\\}$.  \n",
    "   - Ребра можуть бути:\n",
    "     - **Неорієнтовані** — зв'язок не має напрямку. Наприклад, $(v_1, v_2) = (v_2, v_1)$.  \n",
    "     - **Орієнтовані (дуги)** — зв'язок має напрямок від однієї вершини до іншої. Наприклад, $(v_1, v_2) \\neq (v_2, v_1)$.\n",
    "\n",
    "3. **Вага ребра (edge weight)**:  \n",
    "   - У **зваженому графі** кожному ребру присвоєно числове значення (вагу), що позначається як $w(v_i, v_j)$.  \n",
    "   - Наприклад, $E = \\{(v_1, v_2, w_1), (v_2, v_3, w_2)\\}$.\n",
    "\n",
    "## Типи графів:\n",
    "- **Неорієнтований граф** — ребра не мають напрямку: $(v_i, v_j) = (v_j, v_i)$.  \n",
    "- **Орієнтований граф (орграф)** — ребра мають напрямок: $(v_i, v_j) \\neq (v_j, v_i)$.  \n",
    "- **Зважений граф** — кожному ребру присвоєно вагу $w(v_i, v_j)$.\n"
   ]
  },
  {
   "cell_type": "markdown",
   "id": "e0a96246-ef11-474a-926e-1cb2c93408ec",
   "metadata": {},
   "source": [
    "#### **2)**  Які алгоритми використовуються для пошуку найкоротших шляхів у графах?\n",
    "\n",
    "1. Алгоритм Дейкстри  \n",
    "2. Алгоритм Беллмана-Форда  \n",
    "3. Алгоритм Флойда-Воршелла  \n",
    "4. Алгоритм Джонсона  \n",
    "5. Алгоритм А (A-star)  \n",
    "6. Алгоритм Йена (пошук K найкоротших шляхів) \n",
    "7. Алгоритм Дейкстри для декількох джерел (модифікація)  \n",
    "8. Алгоритм BFS (для неорієнтованих або незважених графів)  \n",
    "9. Алгоритм для дерева найкоротших шляхів (Shortest Path Tree)  \n",
    "10. Алгоритм пошуку в ширину (як основа для деяких варіантів)  \n"
   ]
  },
  {
   "cell_type": "markdown",
   "id": "078e6e01-9dbe-4cc9-8e4f-0182ae845ef8",
   "metadata": {},
   "source": [
    "#### **3)** Як працює алгоритм Дейкстри і які його особливості?\n",
    "\n",
    "\n",
    "**Алгоритм Дейкстри** — це жадібний алгоритм для знаходження найкоротших шляхів від однієї вихідної вершини до всіх інших вершин у графі.\n",
    "\n",
    "#### Принцип роботи алгоритму Дейкстри:\n",
    "\n",
    "1. **Ініціалізація**:  \n",
    "   - Задається вихідна вершина.  \n",
    "   - Відстань до вихідної вершини встановлюється як 0: $D(s) = 0$ (де $s$ — початкова вершина).  \n",
    "   - Відстані до всіх інших вершин встановлюються як $\\infty$: $D(v) = \\infty$.\n",
    "\n",
    "2. **Відвідування вершин**:\n",
    "   - Обирається вершина з **найменшим значенням відстані** серед невідвіданих вершин.  \n",
    "   - Для кожної сусідньої вершини перераховується потенційно коротший шлях через поточну вершину:  \n",
    "     $$ D(v) = \\min(D(v), D(u) + w(u, v)) $$  \n",
    "     де $u$ — поточна вершина, $v$ — сусідня вершина, а $w(u, v)$ — вага ребра між ними.\n",
    "\n",
    "3. **Позначення відвіданих вершин**:  \n",
    "   - Вершина, для якої відстань була оновлена і оброблена, позначається як \"відвідана\".\n",
    "\n",
    "4. **Повторення кроків**:  \n",
    "   - Процес повторюється, доки не буде знайдено найкоротші відстані до всіх вершин графа.\n",
    "\n",
    "#### Особливості алгоритму Дейкстри:\n",
    "\n",
    "1. **Жадібний підхід**:  \n",
    "   Алгоритм на кожному кроці вибирає вершину з найменшою відстанню.\n",
    "\n",
    "2. **Графи**:  \n",
    "   - Працює лише для **зважених графів** з **невід'ємними вагами** ребер.  \n",
    "   - Не застосовується для графів з від'ємними вагами.\n",
    "\n",
    "3. **Складність**:  \n",
    "   - **Часова складність** залежить від структури даних:\n",
    "     - $O(V^2)$ — для матриці суміжності.\n",
    "     - $O((V + E) \\log V)$ — за використання купи Фібоначчі або черги з пріоритетами.  \n",
    "   - $V$ — кількість вершин, $E$ — кількість ребер.\n",
    "\n",
    "4. **Оптимальність**:  \n",
    "   - Гарантовано знаходить найкоротший шлях у графі з невід'ємними вагами.\n",
    "\n",
    "5. **Одноджерельний пошук**:  \n",
    "   - Алгоритм знаходить найкоротші шляхи від однієї початкової вершини до всіх інших.\n",
    "\n",
    "6. **Застосування**:  \n",
    "   Використовується в маршрутизації, системах навігації, комп'ютерних мережах та транспортних задачах.\n"
   ]
  },
  {
   "cell_type": "markdown",
   "id": "1a0928c2-cca1-4f50-ad8f-a70aff9b040f",
   "metadata": {},
   "source": [
    "#### **4)** Що таке алгоритм Белмена–Форда і коли його варто застосовувати?\n",
    "\n",
    "\n",
    "**Алгоритм Беллмана-Форда** — це алгоритм для знаходження найкоротших шляхів від однієї вершини до всіх інших вершин у графі. Алгоритм може працювати з графами, що містять **від'ємні ваги** на ребрах, і навіть виявляти **від'ємні цикли**.\n",
    "\n",
    "#### Принцип роботи алгоритму Беллмана-Форда:\n",
    "\n",
    "1. **Ініціалізація**:  \n",
    "   - Встановлюється відстань до початкової вершини як 0: $D(s) = 0$.  \n",
    "   - Відстані до всіх інших вершин встановлюються як $\\infty$: $D(v) = \\infty$.\n",
    "\n",
    "2. **Ітерації**:  \n",
    "   Алгоритм виконує $V - 1$ ітерацій (де $V$ — кількість вершин), на кожній з яких для кожного ребра $(u, v)$ графа перевіряється, чи можна покращити відстань до вершини $v$ через вершину $u$. Якщо так, то відстань оновлюється:\n",
    "   $$ D(v) = \\min(D(v), D(u) + w(u, v)) $$  \n",
    "   де $w(u, v)$ — вага ребра між вершинами $u$ та $v$.\n",
    "\n",
    "3. **Перевірка на від'ємні цикли**:  \n",
    "   Після виконання $V - 1$ ітерацій, алгоритм виконує ще одну перевірку для кожного ребра. Якщо знаходиться ребро, яке можна покращити, то граф містить **від'ємний цикл**.\n",
    "\n",
    "#### Коли застосовувати алгоритм Беллмана-Форда:\n",
    "\n",
    "1. **Графи з від'ємними вагами**:  \n",
    "   Алгоритм Беллмана-Форда може працювати з графами, де ваги ребер можуть бути від'ємними, на відміну від алгоритму Дейкстри, який не підтримує від'ємні ваги.\n",
    "\n",
    "2. **Виявлення від'ємних циклів**:  \n",
    "   Алгоритм може виявити **від'ємні цикли**, тобто цикли, у яких сума ваг ребер від'ємна. Якщо такий цикл є, алгоритм повідомить про це.\n",
    "\n",
    "3. **Маленькі та середні графи**:  \n",
    "   Алгоритм має складність $O(V \\cdot E)$, що робить його менш ефективним для великих графів порівняно з іншими алгоритмами (наприклад, Дейкстри).\n",
    "\n",
    "#### Особливості алгоритму:\n",
    "\n",
    "- **Часова складність**:  \n",
    "  Часова складність алгоритму становить $O(V \\cdot E)$, де $V$ — кількість вершин, а $E$ — кількість ребер у графі.\n",
    "  \n",
    "- **Підтримка від'ємних ваг**:  \n",
    "  Алгоритм працює з графами, що мають від'ємні ваги на ребрах, на відміну від алгоритму Дейкстри.\n",
    "\n",
    "- **Виявлення від'ємних циклів**:  \n",
    "  Алгоритм допомагає визначити, чи містить граф від'ємний цикл, що є важливою особливістю при роботі з графами, де є від'ємні ваги.\n",
    "\n",
    "#### Коли не варто застосовувати:\n",
    "\n",
    "- Для графів з **невід'ємними вагами** алгоритм Беллмана-Форда зазвичай не є найефективнішим вибором, оскільки алгоритм Дейкстри працює швидше для таких випадків.\n"
   ]
  },
  {
   "cell_type": "code",
   "execution_count": null,
   "id": "9a7ae922-94cd-45ff-a3f3-c533460d2dc4",
   "metadata": {},
   "outputs": [],
   "source": []
  }
 ],
 "metadata": {
  "kernelspec": {
   "display_name": "Python 3 (ipykernel)",
   "language": "python",
   "name": "python3"
  },
  "language_info": {
   "codemirror_mode": {
    "name": "ipython",
    "version": 3
   },
   "file_extension": ".py",
   "mimetype": "text/x-python",
   "name": "python",
   "nbconvert_exporter": "python",
   "pygments_lexer": "ipython3",
   "version": "3.13.0"
  }
 },
 "nbformat": 4,
 "nbformat_minor": 5
}
